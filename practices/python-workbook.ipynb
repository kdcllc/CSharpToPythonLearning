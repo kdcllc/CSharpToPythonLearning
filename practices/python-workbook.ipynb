{
 "cells": [
  {
   "cell_type": "markdown",
   "metadata": {},
   "source": [
    "# Python notebook\n"
   ]
  },
  {
   "cell_type": "markdown",
   "metadata": {},
   "source": [
    "## Data types\n",
    "\n",
    "- Scalar types\n",
    "    - `int` - `32` arb precision \n",
    "    - `float` - `4.2` 64-bit floating point numbers\n",
    "    - `NoteType` - `None` the null object\n",
    "    - `bool` - `True`, `False` boolean logical values"
   ]
  },
  {
   "cell_type": "markdown",
   "metadata": {},
   "source": [
    "### Int"
   ]
  },
  {
   "cell_type": "code",
   "execution_count": null,
   "metadata": {},
   "outputs": [],
   "source": [
    "# 10\n",
    "print(10)\n",
    "\n",
    "# binary is prefixed with 0b\n",
    "print(0b10)\n",
    "\n",
    "# octal is prefixed with 0o\n",
    "print(0o10)\n",
    "\n",
    "# 0x prefix\n",
    "print(0x10)\n",
    "\n",
    "print(int(3.5))\n",
    "\n",
    "print(int(-3.5))\n",
    "\n",
    "# parse string\n",
    "print(int(\"455\"))\n",
    "\n",
    "# position 3\n",
    "print(int(\"10000\", 3))"
   ]
  },
  {
   "cell_type": "markdown",
   "metadata": {},
   "source": [
    "### Float"
   ]
  },
  {
   "cell_type": "code",
   "execution_count": null,
   "metadata": {},
   "outputs": [],
   "source": [
    "# any number with decimal point considered as float\n",
    "print(type(3.125))\n",
    "\n",
    "print(type(3e8))\n",
    "\n",
    "print(type(1.616e-35))\n",
    "\n",
    "print(float(7))\n",
    "\n",
    "# parse\n",
    "print(float(\"1.67\"))\n",
    "\n",
    "# nan value\n",
    "print(float(\"nan\"))\n",
    "\n",
    "# positive infinity\n",
    "print(float(\"inf\"))\n",
    "\n",
    "# negative infinity\n",
    "print(float(\"-inf\"))\n",
    "\n",
    "# adding float and int produces float number\n",
    "print(3.1+2)"
   ]
  },
  {
   "cell_type": "markdown",
   "metadata": {},
   "source": [
    "### None"
   ]
  },
  {
   "cell_type": "code",
   "execution_count": null,
   "metadata": {},
   "outputs": [],
   "source": [
    "a = None\n",
    "\n",
    "print(type(a))\n",
    "\n",
    "print(a is None)"
   ]
  },
  {
   "cell_type": "markdown",
   "metadata": {},
   "source": [
    "### bool"
   ]
  },
  {
   "cell_type": "code",
   "execution_count": null,
   "metadata": {},
   "outputs": [],
   "source": [
    "# for int 0 = falsy and all other values truthy\n",
    "print(bool(0))\n",
    "\n",
    "print(bool(67))\n",
    "\n",
    "print(bool(-1))\n",
    "\n",
    "# the same is true of floats\n",
    "print(bool(0.0))\n",
    "\n",
    "print(bool(0.345))\n",
    "\n",
    "# for lists empty are falsy and with values are truthy\n",
    "print(bool([]))\n",
    "\n",
    "print(bool([1,2,3,4,5]))\n",
    "\n",
    "# empty string are falsy and others are truthy\n",
    "print(bool(\"\"))\n",
    "\n",
    "print(bool(\"word\"))\n",
    "\n",
    "# note: parsing False or True string will both result in True\n",
    "print(bool(\"False\"))"
   ]
  },
  {
   "cell_type": "markdown",
   "metadata": {},
   "source": [
    "## Collections\n",
    "- `str`\n",
    "- `bytes`\n",
    "- `list`\n",
    "- `dict`"
   ]
  },
  {
   "cell_type": "markdown",
   "metadata": {},
   "source": [
    "### string `str`\n",
    "\n",
    "- Strings are immutable.\n",
    "- Single or double quote can be used.\n",
    "- UTF8 - unicode\n",
    "\n",
    "https://docs.python.org/3/reference/lexical_analysis.html#literals"
   ]
  },
  {
   "cell_type": "code",
   "execution_count": null,
   "metadata": {},
   "outputs": [],
   "source": [
    "# double \n",
    "a = \"\"\"\n",
    "    This is \n",
    "    a multiline\n",
    "    string\n",
    "    double quotes\n",
    "\"\"\"\n",
    "\n",
    "print(a)\n",
    "\n",
    "# single\n",
    "\n",
    "b = '''\n",
    "    This is\n",
    "    a multiple\n",
    "    sting\n",
    "    single quotes\n",
    "'''\n",
    "\n",
    "print(b)\n",
    "\n",
    "# \\n universal for all OSs\n",
    "c = 'This string\\nspans multiple\\nlines'\n",
    "\n",
    "print(c)"
   ]
  },
  {
   "cell_type": "code",
   "execution_count": null,
   "metadata": {},
   "outputs": [],
   "source": [
    "\n",
    "s = 'The age of {0} is {1}'.format('Smith', 550)\n",
    "\n",
    "print(s)\n",
    "\n",
    "s = 'The age of {name} is {age}'.format(name='Smith',age=20)\n",
    "\n",
    "print(s)\n"
   ]
  },
  {
   "cell_type": "code",
   "execution_count": null,
   "metadata": {},
   "outputs": [],
   "source": [
    "import math\n",
    "\n",
    "s = 'Math constants: pi={m.pi}, e={m.e:.3f}'.format(m=math)\n",
    "\n",
    "print(s)"
   ]
  },
  {
   "cell_type": "code",
   "execution_count": null,
   "metadata": {},
   "outputs": [],
   "source": [
    "import datetime\n",
    "\n",
    "f'The current time is {datetime.datetime.now().isoformat()}'\n"
   ]
  },
  {
   "cell_type": "code",
   "execution_count": null,
   "metadata": {},
   "outputs": [],
   "source": [
    "path = r'C:\\Users\\Path'\n",
    "print(path)"
   ]
  },
  {
   "cell_type": "code",
   "execution_count": null,
   "metadata": {},
   "outputs": [],
   "source": [
    "# index is 0 based\n",
    "s = \"faith\"\n",
    "print(s[2])\n",
    "\n",
    "print(type(s[2]))"
   ]
  },
  {
   "cell_type": "code",
   "execution_count": null,
   "metadata": {},
   "outputs": [],
   "source": [
    "c = 'charlotte'\n",
    "# returns a new string\n",
    "print(c.capitalize())"
   ]
  },
  {
   "cell_type": "code",
   "execution_count": null,
   "metadata": {},
   "outputs": [],
   "source": [
    "# demos the concatenation of the strings\n",
    "\n",
    "name = input(\"What is your name\")\n",
    "\n",
    "print(\"Hello \" + name)\n",
    "print(\"Hello\", name)\n",
    "print(\"Hello %s\" % (name))\n",
    "print(f\"Hello {name}\")\n",
    "\n",
    "# original value\n",
    "print(type(name))\n",
    "name = 2\n",
    "\n",
    "# re-assigned value\n",
    "print(type(name))"
   ]
  },
  {
   "cell_type": "markdown",
   "metadata": {},
   "source": [
    "### string `bytes`\n",
    "\n",
    "- sequence of bytes\n",
    "- raw data\n",
    "- fixed width singly-byte encodings\n",
    "\n",
    "To convert between strings and bytes we need to know the  [standard encodings](https://docs.python.org/3/library/codecs.html#standard-encodings) encode/decode"
   ]
  },
  {
   "cell_type": "code",
   "execution_count": null,
   "metadata": {},
   "outputs": [],
   "source": [
    "# bytes literals\n",
    "\n",
    "x = b'some data'\n",
    "\n",
    "print(type(x))\n",
    "\n",
    "p = x[0]\n",
    "print(p)\n",
    "\n",
    "a = x.split()\n",
    "\n",
    "print(a)"
   ]
  },
  {
   "cell_type": "markdown",
   "metadata": {},
   "source": [
    "### lists\n"
   ]
  },
  {
   "cell_type": "code",
   "execution_count": null,
   "metadata": {},
   "outputs": [],
   "source": [
    "color = [\"Red\", \"Yellow\", \"Blue\"] # Python doesn't have arrays\n",
    "color.append(\"Green\")\n",
    "print(color[1])\n",
    "\n",
    "print(len(color))\n",
    "print(type(color))\n",
    "\n",
    "for col in color:\n",
    "    print(col)\n",
    "\n",
    "print(color[-1])  #last element like ^1 in c#"
   ]
  },
  {
   "cell_type": "code",
   "execution_count": null,
   "metadata": {},
   "outputs": [],
   "source": [
    "import random\n",
    "ran = random.randint(0, 10)\n",
    "\n",
    "a = [ran] * 10\n",
    "print(a)"
   ]
  },
  {
   "cell_type": "code",
   "execution_count": null,
   "metadata": {},
   "outputs": [],
   "source": [
    "u = 'For God So Love the world'.split()\n",
    "\n",
    "print(u)\n",
    "\n",
    "# delete\n",
    "del u[0]\n",
    "\n",
    "print(u)"
   ]
  },
  {
   "cell_type": "markdown",
   "metadata": {},
   "source": [
    "### Slices"
   ]
  },
  {
   "cell_type": "code",
   "execution_count": null,
   "metadata": {},
   "outputs": [],
   "source": [
    "letters = [\"a\", \"d\", \"c\", \"b\"]\n",
    "print(letters)"
   ]
  },
  {
   "cell_type": "code",
   "execution_count": null,
   "metadata": {},
   "outputs": [],
   "source": [
    "import string # like using in c#\n",
    "letters2 = list(string.ascii_lowercase)\n",
    "print(letters2)\n",
    "\n",
    "# help(string)"
   ]
  },
  {
   "cell_type": "code",
   "execution_count": null,
   "metadata": {},
   "outputs": [],
   "source": [
    "for le in letters2[:5]:\n",
    "    print(le)\n",
    "\n",
    "print(\"break\")\n",
    "\n",
    "for le in letters2[2:5]:\n",
    "    print(le)\n",
    "\n",
    "print(\"break\")\n",
    "\n",
    "for le in letters2[:15:2]:\n",
    "    print(le)\n",
    "\n",
    "print(\"break\")\n",
    "\n",
    "for le in letters2[::-1]:\n",
    "    print(le)\n"
   ]
  },
  {
   "cell_type": "code",
   "execution_count": null,
   "metadata": {},
   "outputs": [],
   "source": [
    "# depends on the code that assigns letters2 variabl\n",
    "\"-\".join(letters2)"
   ]
  },
  {
   "cell_type": "markdown",
   "metadata": {},
   "source": [
    "### List Comprehensions"
   ]
  },
  {
   "cell_type": "code",
   "execution_count": null,
   "metadata": {},
   "outputs": [],
   "source": [
    "import string # like using in c#\n",
    "letters = list(string.ascii_lowercase)"
   ]
  },
  {
   "cell_type": "code",
   "execution_count": null,
   "metadata": {},
   "outputs": [],
   "source": [
    "# linq?\n",
    "[letter for letter in letters]"
   ]
  },
  {
   "cell_type": "code",
   "execution_count": null,
   "metadata": {},
   "outputs": [],
   "source": [
    "[letter.upper() for letter in letters]"
   ]
  },
  {
   "cell_type": "code",
   "execution_count": null,
   "metadata": {},
   "outputs": [],
   "source": [
    "[letter.upper() for letter in letters if letter < 'm']"
   ]
  },
  {
   "cell_type": "code",
   "execution_count": null,
   "metadata": {},
   "outputs": [],
   "source": [
    "[letter.upper() for letter in letters[::-1] if letter < 'm']\n"
   ]
  },
  {
   "cell_type": "code",
   "execution_count": null,
   "metadata": {},
   "outputs": [],
   "source": [
    "# := is called the walrus operator\n",
    "[l for letter in letters if (l := letter.upper()) < 'M']"
   ]
  },
  {
   "cell_type": "code",
   "execution_count": null,
   "metadata": {},
   "outputs": [],
   "source": [
    "# nested\n",
    "words = [\"hello\", \"world\", \"this\", \"is\", \"a\", \"sentence\"]\n",
    "\n",
    "[letter for word in words for letter in word]"
   ]
  },
  {
   "cell_type": "markdown",
   "metadata": {},
   "source": [
    "### `dict` dictionaries\n",
    "\n",
    "- Maps keys to values\n",
    "- Keys must be immutable and values can be mutable\n",
    "- Order of the items in the dictionary is not predictable"
   ]
  },
  {
   "cell_type": "code",
   "execution_count": null,
   "metadata": {},
   "outputs": [],
   "source": [
    "# create empty dict\n",
    "ed = {}\n",
    "\n",
    "a_dict= {\n",
    "        \"firstName\": \"John\", \n",
    "        \"lastName\": \"Smith\" }\n",
    "\n",
    "# name in the key\n",
    "for name in a_dict:\n",
    "    print(name, a_dict[name])\n",
    "\n",
    "\n",
    "for firstName, lastName in a_dict.items():\n",
    "    print(firstName, lastName)\n",
    "\n",
    "for nc in a_dict.items():\n",
    "    print(type(nc))\n",
    "    \n",
    "print('Length ', len(a_dict))\n",
    "\n",
    "print(a_dict)\n",
    "\n",
    "# get a value\n",
    "print(a_dict['firstName'])\n",
    "\n",
    "# set a value\n",
    "a_dict['firstName'] = 'Peter'\n",
    "print(a_dict['firstName'])\n",
    "\n",
    "# check for the values\n",
    "if \"firstName\" in a_dict:\n",
    "    print(\"'firstName' is in dictionary\")\n",
    "\n",
    "if \"age\" not in a_dict:\n",
    "    print(\"age is not in dictionary\")"
   ]
  },
  {
   "cell_type": "markdown",
   "metadata": {},
   "source": [
    "List comprehensions"
   ]
  },
  {
   "cell_type": "code",
   "execution_count": null,
   "metadata": {},
   "outputs": [],
   "source": [
    "import string # like using in c#\n",
    "list = list(string.ascii_lowercase)\n",
    "\n",
    "d = {item: item.upper() for item in list if item < 'm'}\n",
    "\n",
    "print(d)"
   ]
  },
  {
   "cell_type": "code",
   "execution_count": null,
   "metadata": {},
   "outputs": [],
   "source": [
    "import os\n",
    "import glob\n",
    "from pprint import pp\n",
    "\n",
    "file_size = {os.path.realpath(p): os.stat(p).st_size for p in glob.glob('*.*')}\n",
    "\n",
    "pp(file_size)  "
   ]
  },
  {
   "cell_type": "code",
   "execution_count": null,
   "metadata": {},
   "outputs": [],
   "source": [
    "# Number of A,B and Cs in this string\n",
    "text = \"AAAAABBBCCCCAAAABBBCCCCAAABBBCCCC\"\n",
    "\n",
    "# First attempt\n",
    "counts = dict()\n",
    "for s in text:\n",
    "  if s in counts:\n",
    "    counts[s] += 1\n",
    "  else:\n",
    "    counts[s] = 1\n",
    "\n",
    "print(counts)\n",
    "\n",
    "\n",
    "# Second attempt\n",
    "from typing import DefaultDict  #Reference other modules/packages\n",
    "counts = DefaultDict(int)\n",
    "for s in text:\n",
    "  counts[s] += 1\n",
    "\n",
    "print(counts)\n",
    "\n",
    "# Third attempt\n",
    "\n",
    "from collections import Counter\n",
    "counts = Counter(text)\n",
    "print(counts[\"A\"])\n"
   ]
  },
  {
   "cell_type": "markdown",
   "metadata": {},
   "source": [
    "### Set\n"
   ]
  },
  {
   "cell_type": "code",
   "execution_count": null,
   "metadata": {},
   "outputs": [],
   "source": [
    "# create set\n",
    "p = {10,20,30,40,50}\n",
    "print(type(p))\n",
    "\n",
    "\n",
    "for x in p:\n",
    "    print(x)\n",
    "\n",
    "# create empty set\n",
    "p = set()\n",
    "p.add(2200)\n",
    "p.update([300,400])\n",
    "print(p)\n",
    "\n",
    "# if not present raises exception\n",
    "p.remove(2200)\n",
    "\n",
    "# if not present doesn't raise exception\n",
    "p.discard(2200)"
   ]
  },
  {
   "cell_type": "markdown",
   "metadata": {},
   "source": [
    "### Tuples"
   ]
  },
  {
   "cell_type": "code",
   "execution_count": null,
   "metadata": {},
   "outputs": [],
   "source": [
    "t = ('Jerusalem',34.5, 5)\n",
    "\n",
    "print(t[0])\n",
    "\n",
    "for item in t:\n",
    "    print(item)\n",
    "\n",
    "print(len(t))\n",
    "\n",
    "# tuples can be nested\n",
    "n = ((1,2), (3,4))\n",
    "\n",
    "print(n[0][0])\n",
    "\n",
    "# single element should be created like so\n",
    "s = (345,1)\n",
    "print(type(s))\n",
    "\n",
    "t = [6,300,8000,140000,200000]\n",
    "\n",
    "# iterate thru the tuple values\n",
    "for i, v in enumerate(t):\n",
    "    print(f'i = {i}, v = {v}')"
   ]
  },
  {
   "cell_type": "markdown",
   "metadata": {},
   "source": [
    "## If statements"
   ]
  },
  {
   "cell_type": "code",
   "execution_count": null,
   "metadata": {},
   "outputs": [],
   "source": [
    "h = 50\n",
    "\n",
    "if h > 50:\n",
    "    print(\"> 50\")\n",
    "elif h < 20:\n",
    "    print(\"< 20\")\n",
    "else:\n",
    "    print(\"didn't match\")"
   ]
  },
  {
   "cell_type": "code",
   "execution_count": null,
   "metadata": {},
   "outputs": [],
   "source": [
    "name = input(\"What is your name\")\n",
    "\n",
    "if name != \"David\" :\n",
    "    print(\"Hi\", name)\n",
    "elif name == \"David\" :\n",
    "    print(\"Yo David\")\n",
    "else :\n",
    "    print(f\"Hello {name}\")\n",
    "print(\"Alway runs\")  #Not indented"
   ]
  },
  {
   "cell_type": "markdown",
   "metadata": {},
   "source": [
    "## Switch Statements\n",
    "\n",
    "- [Python 3.10 and higher](https://www.freecodecamp.org/news/python-switch-statement-switch-case-example/)"
   ]
  },
  {
   "cell_type": "code",
   "execution_count": null,
   "metadata": {},
   "outputs": [],
   "source": [
    "\n",
    "def switch(lang):\n",
    "    match lang:\n",
    "        case \"JavaScript\":\n",
    "            return \"You can become a web developer.\"\n",
    "\n",
    "        case \"Python\":\n",
    "            return \"You can become a Data Scientist\"\n",
    "\n",
    "        case \"PHP\":\n",
    "            return \"You can become a backend developer\"\n",
    "        \n",
    "        case \"Solidity\":\n",
    "            return \"You can become a Blockchain developer\"\n",
    "\n",
    "        case \"Java\":\n",
    "            return \"You can become a mobile app developer\"\n",
    "        case _:\n",
    "            return \"The language doesn't matter, what matters is solving problems.\"\n",
    "\n",
    "print(switch(\"JavaScript\"))   \n",
    "print(switch(\"PHP\"))   \n",
    "print(switch(\"Java\"))  "
   ]
  },
  {
   "cell_type": "markdown",
   "metadata": {},
   "source": [
    "## Loops"
   ]
  },
  {
   "cell_type": "markdown",
   "metadata": {},
   "source": [
    "### While Loops\n",
    "\n",
    "Python doesn't support do-while loops"
   ]
  },
  {
   "cell_type": "code",
   "execution_count": null,
   "metadata": {},
   "outputs": [],
   "source": [
    "n = 100\n",
    "while n < 110:\n",
    "    print(n)\n",
    "    n +=1 # not allowed n++"
   ]
  },
  {
   "cell_type": "code",
   "execution_count": null,
   "metadata": {},
   "outputs": [],
   "source": [
    "# 28\n",
    "while True:\n",
    "    response = input(\"Enter number\")\n",
    "    if (int(response)) % 7 == 0:\n",
    "        print(\"Exit\")\n",
    "        break\n",
    "    print(response)"
   ]
  },
  {
   "cell_type": "markdown",
   "metadata": {},
   "source": [
    "### For Loops\n",
    "\n",
    "```\n",
    "for item in iterable:\n",
    "    ... body ...\n",
    "```\n"
   ]
  },
  {
   "cell_type": "code",
   "execution_count": null,
   "metadata": {},
   "outputs": [],
   "source": [
    "for n in range(10):\n",
    "    print(n)\n",
    "    print(\"Next number\")\n",
    "print(\"Done\")"
   ]
  },
  {
   "cell_type": "code",
   "execution_count": null,
   "metadata": {},
   "outputs": [],
   "source": [
    "for n in range(15, 20):\n",
    "    print(n)"
   ]
  },
  {
   "cell_type": "code",
   "execution_count": null,
   "metadata": {},
   "outputs": [],
   "source": [
    "for n in range(20, 15, -2):\n",
    "    print(n)"
   ]
  },
  {
   "cell_type": "code",
   "execution_count": null,
   "metadata": {},
   "outputs": [],
   "source": [
    "for _ in range(2): # _ is used for a discard\n",
    "    print(\"Hello\")"
   ]
  },
  {
   "cell_type": "code",
   "execution_count": null,
   "metadata": {},
   "outputs": [],
   "source": [
    "from urllib.request import urlopen\n",
    "\n",
    "story = urlopen('http://sixty-north.com/c/t.txt')\n",
    "\n",
    "story_words = []\n",
    "\n",
    "for line in story:\n",
    "    # returns string bytes\n",
    "    # line_words = line.split()\n",
    "    line_words = line.decode('utf8').split()\n",
    "    for word in line_words:\n",
    "        story_words.append(word)\n",
    "\n",
    "story.close()\n",
    "\n",
    "print(story_words)"
   ]
  },
  {
   "cell_type": "markdown",
   "metadata": {},
   "source": [
    "## Functions\n",
    "\n",
    "- `__feature__` - naming special functions\n",
    "- `__name__` detects whether a module is run as a script or imported into another module"
   ]
  },
  {
   "cell_type": "markdown",
   "metadata": {},
   "source": [
    "- Python module - import with API\n",
    "- Python script - execution from the command line\n",
    "- Python program - composed of many modules\n",
    "\n",
    "Python will not generally perform implicit conversion between types."
   ]
  },
  {
   "cell_type": "markdown",
   "metadata": {},
   "source": [
    "```python\n",
    "\n",
    "import x\n",
    "from x import y\n",
    "from x import y as z\n",
    "\n",
    "```"
   ]
  },
  {
   "cell_type": "code",
   "execution_count": null,
   "metadata": {},
   "outputs": [],
   "source": [
    "import sys\n",
    "\n",
    "def main():\n",
    "    return 0\n",
    "\n",
    "if __name__ == '__main__':\n",
    "    sys.exit(main())"
   ]
  },
  {
   "cell_type": "code",
   "execution_count": null,
   "metadata": {},
   "outputs": [],
   "source": [
    "def add(a, b):        # naming convention\n",
    "  return a + b                    # <- note the indentation\n",
    "\n",
    "\n",
    "print(add(1, 2))\n",
    "print(add(\"David\",\"Kevin\"))\n",
    "\n",
    "# will not work\n",
    "# add(\"David\",1)\n",
    "\n",
    "\n",
    "print('Type: ',type(add(1, 2)))\n",
    "print('Type : ', type(add(\"David\",\"Kevin\")))"
   ]
  },
  {
   "cell_type": "markdown",
   "metadata": {},
   "source": [
    "default argument values"
   ]
  },
  {
   "cell_type": "code",
   "execution_count": null,
   "metadata": {},
   "outputs": [],
   "source": [
    "# default values must be at the end of the function definition\n",
    "def banner(message, border='-'):\n",
    "    line = border * len(message)\n",
    "    print(line)\n",
    "    print(message)\n",
    "    print(line)\n",
    "\n",
    "banner(\"Python is simple\")\n",
    "\n",
    "banner(border='*', message='An Python might be easier')"
   ]
  },
  {
   "cell_type": "markdown",
   "metadata": {},
   "source": [
    "- default value evaluation, mutable default values can cause confusing effects\n",
    "- the solution is alway use immutable default value"
   ]
  },
  {
   "cell_type": "code",
   "execution_count": null,
   "metadata": {},
   "outputs": [],
   "source": [
    "def mutable_func(list=[]) :\n",
    "    list.append('Value')\n",
    "    return list\n",
    "\n",
    "print(mutable_func())\n",
    "# second time the list is appended with the same default value\n",
    "print(mutable_func())"
   ]
  },
  {
   "cell_type": "code",
   "execution_count": null,
   "metadata": {},
   "outputs": [],
   "source": [
    "def immutable_func(list=None):\n",
    "    if list is None:\n",
    "        list = []\n",
    "        list.append('Value')\n",
    "    return list\n",
    "\n",
    "print(immutable_func())\n",
    "print(immutable_func())"
   ]
  },
  {
   "cell_type": "markdown",
   "metadata": {},
   "source": [
    "Scopes in Python (LEGB)\n",
    "- `Local` - Inside the current function\n",
    "- `Enclosing` - Inside enclosing functions\n",
    "- `Global` - At the top level of the module (`global` keyword can be used)\n",
    "- `Built-in` - In the special builtins module"
   ]
  },
  {
   "cell_type": "code",
   "execution_count": null,
   "metadata": {},
   "outputs": [],
   "source": [
    "def nth_root(radicand, n) :\n",
    "    return radicand ** (1/n)\n",
    "\n",
    "result = nth_root(16,2)\n",
    "\n",
    "print(result)"
   ]
  },
  {
   "cell_type": "code",
   "execution_count": null,
   "metadata": {},
   "outputs": [],
   "source": [
    "#! /usr/bin/env python3\n",
    "\n",
    "# shebang will allow to execute without specifying python interpreter\n",
    "# mark the script with `chmod +x script.py`\n",
    "# ./script.py\n",
    "\n",
    "from urllib.request import urlopen\n",
    "\n",
    "def fetch_words():\n",
    "    \"\"\"Fetch a list of words from a URL\n",
    "        Returns:\n",
    "            A list of strings containing the words from the document.\n",
    "    \"\"\"\n",
    "    story = urlopen('http://sixty-north.com/c/t.txt')\n",
    "\n",
    "    story_words = []\n",
    "\n",
    "    for line in story:\n",
    "\n",
    "        line_words = line.decode('utf8').split()\n",
    "        for word in line_words:\n",
    "            story_words.append(word)\n",
    "\n",
    "    story.close()\n",
    "\n",
    "    return story_words\n",
    "\n",
    "def print_items(items):\n",
    "    for item in items:\n",
    "        print(item)\n",
    "\n",
    "def main():\n",
    "    words = fetch_words()\n",
    "    print_items(words)\n",
    "\n",
    "# allows for execution and not import\n",
    "if __name__ == '__name__':\n",
    "    main()"
   ]
  },
  {
   "cell_type": "markdown",
   "metadata": {},
   "source": [
    "## Classes\n",
    "\n",
    "- All classes inherit from object type.\n",
    "- All is considered public.\n",
    "- [lambda keyword explained](https://www.freecodecamp.org/news/python-lambda-function-explained/)"
   ]
  },
  {
   "cell_type": "code",
   "execution_count": null,
   "metadata": {},
   "outputs": [],
   "source": [
    "class Weather:\n",
    "    # empty class\n",
    "    pass\n",
    "\n",
    "f = Weather()\n",
    "\n",
    "print(type(f))"
   ]
  },
  {
   "cell_type": "code",
   "execution_count": null,
   "metadata": {},
   "outputs": [],
   "source": [
    "class Weather:\n",
    "\n",
    "    def temp(self):\n",
    "        return 'hot'\n",
    "\n",
    "f = Weather()\n",
    "print(f.temp())"
   ]
  },
  {
   "cell_type": "code",
   "execution_count": null,
   "metadata": {},
   "outputs": [],
   "source": [
    "class Weather:\n",
    "\n",
    "    def __init__(self, temp) -> None:\n",
    "        self._temp = temp\n",
    "\n",
    "    def temp(self):\n",
    "        return self._temp\n",
    "\n",
    "f = Weather('cold')\n",
    "print(f.temp())"
   ]
  },
  {
   "cell_type": "code",
   "execution_count": null,
   "metadata": {},
   "outputs": [],
   "source": [
    "class Car:\n",
    "  \n",
    "  # is like a constructor in c#\n",
    "  # self is similar to this in c#\n",
    "  def __init__(self, owner, color, length_in_meters):\n",
    "    self.owner = owner\n",
    "    self.color = color\n",
    "    self.length_in_meters = length_in_meters\n",
    "  \n",
    "  # all instance methods take self as a the first parameter\n",
    "  def start_engine(self):\n",
    "    print(\"Starting engine\")\n",
    "  \n",
    "  def stop_engine(self):\n",
    "    print(\"Stopping engine\")\n",
    "\n",
    "  def __len__(self):\n",
    "    return self.length_in_meters\n",
    "  \n",
    "  # like overloading ToString()\n",
    "  def __str__(self):\n",
    "    return f\"{self.owner}'s {self.color} car\"\n",
    "\n",
    "  def __repr__(self) -> str:\n",
    "    return self.owner\n",
    "\n",
    "\n",
    "\n",
    "smith_car = Car(\"Smith\", \"Red\", 2)\n",
    "print('Car owner', smith_car.owner)\n",
    "print(len(smith_car))\n",
    "\n",
    "# new method that can be assigned\n",
    "def break_car():\n",
    "  print('Car is broken')\n",
    "# python is dynamic\n",
    "smith_car.start_engine = break_car\n",
    "print(smith_car.start_engine())\n",
    "\n",
    "rob_car = Car(\"Robertson\", \"Blue\", 3)\n",
    "\n",
    "# lambda syntax (can add args)\n",
    "# python is dynamic\n",
    "rob_car.start_engine = lambda: print(\"Engine broken\")\n",
    "rob_car.start_engine()\n",
    "# makes mocking easy!"
   ]
  },
  {
   "cell_type": "markdown",
   "metadata": {},
   "source": [
    "## `*args, **kwargs`\n",
    "\n",
    "- `*args` = params\n",
    "- "
   ]
  },
  {
   "cell_type": "code",
   "execution_count": null,
   "metadata": {},
   "outputs": [],
   "source": [
    "# *args **kwargs\n",
    "def a_method(*args, **kwargs):\n",
    "  for arg in args:\n",
    "    print(arg)\n",
    "\n",
    "  for name in kwargs:\n",
    "    print(name, kwargs[name])\n",
    "  print(type(args))\n",
    "  print(type(kwargs))\n",
    "\n",
    "a_method(1,2,3,name=\"David\", City=\"York\")"
   ]
  },
  {
   "cell_type": "code",
   "execution_count": null,
   "metadata": {},
   "outputs": [],
   "source": [
    "def custom_func(name, number):\n",
    "    print(f'{name} has {number}')\n",
    "\n",
    "a_tuple = (\"Tester\", 101)\n",
    "\n",
    "custom_func(a_tuple[0], a_tuple[1])\n",
    "\n",
    "# or a spread operator\n",
    "custom_func(*a_tuple)"
   ]
  },
  {
   "cell_type": "markdown",
   "metadata": {},
   "source": [
    "## Typing hints"
   ]
  },
  {
   "cell_type": "code",
   "execution_count": null,
   "metadata": {},
   "outputs": [],
   "source": [
    "def capital_letters(text):\n",
    "  return text[0].upper() + text[1:].lower()\n",
    "\n",
    "print(capital_letters(\"tester\"))\n",
    "print(capital_letters(123)) # returns TypeError"
   ]
  },
  {
   "cell_type": "markdown",
   "metadata": {},
   "source": [
    "enable typing like typescript"
   ]
  },
  {
   "cell_type": "code",
   "execution_count": null,
   "metadata": {},
   "outputs": [],
   "source": [
    "def capital_letters2(text: str) -> str:\n",
    "  return text[0].upper() + text[1:].lower()\n",
    "\n",
    "print(capital_letters2(\"david\"))\n",
    "print(capital_letters2(123)) # doesn't stop compiling but ide enabled\n"
   ]
  },
  {
   "cell_type": "code",
   "execution_count": null,
   "metadata": {},
   "outputs": [],
   "source": [
    "def none_is_blank(text: (str |None)) -> str:\n",
    "  if text is None:\n",
    "    return \"\"\n",
    "  else:\n",
    "    return text\n",
    "\n",
    "\n",
    "name = None\n",
    "print(none_is_blank(name))"
   ]
  },
  {
   "cell_type": "markdown",
   "metadata": {},
   "source": [
    "an issue where the `int` parameters are switched"
   ]
  },
  {
   "cell_type": "code",
   "execution_count": null,
   "metadata": {},
   "outputs": [],
   "source": [
    "def assign_system(tester_id: int, system_id: int):\n",
    "  print(\"Tester\", tester_id)\n",
    "  print(\"System\", system_id)\n",
    "\n",
    "\n",
    "tester_id = 1234\n",
    "system_id = 5678\n",
    "\n",
    "assign_system(system_id, tester_id)"
   ]
  },
  {
   "cell_type": "code",
   "execution_count": null,
   "metadata": {},
   "outputs": [],
   "source": [
    "from typing import NewType\n",
    "\n",
    "SystemId = NewType(\"SystemId\", int)\n",
    "TesterId = NewType(\"TesterId\", int)\n",
    "\n",
    "\n",
    "def assign_system(tester_id: TesterId, system_id: SystemId):\n",
    "  print(\"TesterId\", tester_id)\n",
    "  print(\"SystemId\", system_id)\n",
    "\n",
    "tester_id = TesterId(1234)\n",
    "system_id = SystemId(5678)\n",
    "\n",
    "assign_system(system_id, tester_id)\n",
    "\n",
    "assign_system(tester_id, system_id)\n",
    "\n",
    "print(type(tester_id))\n",
    "print(type(system_id))\n"
   ]
  },
  {
   "cell_type": "markdown",
   "metadata": {},
   "source": [
    "## Interfaces\n",
    "Not really"
   ]
  },
  {
   "cell_type": "code",
   "execution_count": null,
   "metadata": {},
   "outputs": [],
   "source": [
    "from typing import Protocol\n",
    "\n",
    "class DatabaseAccess(Protocol):\n",
    "  def get_person(self, person_id: int) -> str:\n",
    "    ... # dots mean abstract\n",
    "\n",
    "\n",
    "def do_something(db: DatabaseAccess, person_id: int):\n",
    "  name = db.get_person(person_id)\n",
    "  print(name)\n",
    "\n",
    "\n",
    "class MemoryAccess():\n",
    "  def get_person(self, person_id: int) -> str:\n",
    "    return \"Tester\"\n",
    "\n",
    "do_something(MemoryAccess(), 1234)    "
   ]
  },
  {
   "cell_type": "markdown",
   "metadata": {},
   "source": [
    "## Generics"
   ]
  },
  {
   "cell_type": "code",
   "execution_count": null,
   "metadata": {},
   "outputs": [],
   "source": [
    "from typing import TypeVar\n",
    "\n",
    "T = TypeVar('T')\n",
    "def coalesce(first: T, second: T) -> T:\n",
    "  return first if first is not None else second\n",
    "\n",
    "# Bit limited,  as restrictions cannot be applied,  ie can't do where T is int\n"
   ]
  },
  {
   "cell_type": "markdown",
   "metadata": {},
   "source": [
    "## Decorators"
   ]
  },
  {
   "cell_type": "code",
   "execution_count": null,
   "metadata": {},
   "outputs": [],
   "source": [
    "from typing import Callable\n",
    "\n",
    "def six():\n",
    "  return 6\n",
    "\n",
    "def double(fn: Callable[[], int]) -> int:\n",
    "    return fn()*2\n",
    "\n",
    "print(double(six))\n"
   ]
  },
  {
   "cell_type": "code",
   "execution_count": null,
   "metadata": {},
   "outputs": [],
   "source": [
    "def double_fn():\n",
    "    def double(x: int) -> int:\n",
    "        return x *2\n",
    "    return double\n",
    "\n",
    "# calling double_fn() create a the function\n",
    "\n",
    "print(double_fn()(6))"
   ]
  },
  {
   "cell_type": "code",
   "execution_count": 27,
   "metadata": {},
   "outputs": [
    {
     "name": "stdout",
     "output_type": "stream",
     "text": [
      "14\n"
     ]
    }
   ],
   "source": [
    "def double_att(func):\n",
    "  def wrapper():\n",
    "    return func() * 2\n",
    "  return wrapper\n",
    "\n",
    "@double_att\n",
    "def seven() -> int:\n",
    "   return 7\n",
    "\n",
    "print(seven())"
   ]
  },
  {
   "cell_type": "markdown",
   "metadata": {},
   "source": [
    "## Exceptions"
   ]
  },
  {
   "cell_type": "code",
   "execution_count": 26,
   "metadata": {},
   "outputs": [
    {
     "name": "stdout",
     "output_type": "stream",
     "text": [
      "5\n"
     ]
    },
    {
     "ename": "Exception",
     "evalue": "Result of calculation must be positive. 10 and 50 is -40",
     "output_type": "error",
     "traceback": [
      "\u001b[0;31m---------------------------------------------------------------------------\u001b[0m",
      "\u001b[0;31mException\u001b[0m                                 Traceback (most recent call last)",
      "Cell \u001b[0;32mIn[26], line 15\u001b[0m\n\u001b[1;32m     12\u001b[0m   \u001b[39mreturn\u001b[39;00m a \u001b[39m-\u001b[39m b\n\u001b[1;32m     14\u001b[0m \u001b[39mprint\u001b[39m(sub(\u001b[39m10\u001b[39m, \u001b[39m5\u001b[39m))\n\u001b[0;32m---> 15\u001b[0m \u001b[39mprint\u001b[39m(sub(\u001b[39m10\u001b[39;49m, \u001b[39m50\u001b[39;49m))\n",
      "Cell \u001b[0;32mIn[26], line 5\u001b[0m, in \u001b[0;36mmust_be_positive.<locals>.wrapper\u001b[0;34m(a, b)\u001b[0m\n\u001b[1;32m      3\u001b[0m result \u001b[39m=\u001b[39m func(a,b)\n\u001b[1;32m      4\u001b[0m \u001b[39mif\u001b[39;00m result \u001b[39m<\u001b[39m \u001b[39m0\u001b[39m:\n\u001b[0;32m----> 5\u001b[0m   \u001b[39mraise\u001b[39;00m \u001b[39mException\u001b[39;00m(\u001b[39mf\u001b[39m\u001b[39m\"\u001b[39m\u001b[39mResult of calculation must be positive. \u001b[39m\u001b[39m{\u001b[39;00ma\u001b[39m}\u001b[39;00m\u001b[39m and \u001b[39m\u001b[39m{\u001b[39;00mb\u001b[39m}\u001b[39;00m\u001b[39m is \u001b[39m\u001b[39m{\u001b[39;00mresult\u001b[39m}\u001b[39;00m\u001b[39m\"\u001b[39m)\n\u001b[1;32m      6\u001b[0m \u001b[39mreturn\u001b[39;00m result\n",
      "\u001b[0;31mException\u001b[0m: Result of calculation must be positive. 10 and 50 is -40"
     ]
    }
   ],
   "source": [
    "def must_be_positive(func):\n",
    "  def wrapper(a,b):\n",
    "    result = func(a,b)\n",
    "    if result < 0:\n",
    "      raise Exception(f\"Result of calculation must be positive. {a} and {b} is {result}\")\n",
    "    return result\n",
    "  return wrapper\n",
    "\n",
    "\n",
    "@must_be_positive\n",
    "def sub(a,b):\n",
    "  return a - b\n",
    "\n",
    "print(sub(10, 5))\n",
    "print(sub(10, 50))"
   ]
  }
 ],
 "metadata": {
  "kernelspec": {
   "display_name": ".venv",
   "language": "python",
   "name": "python3"
  },
  "language_info": {
   "codemirror_mode": {
    "name": "ipython",
    "version": 3
   },
   "file_extension": ".py",
   "mimetype": "text/x-python",
   "name": "python",
   "nbconvert_exporter": "python",
   "pygments_lexer": "ipython3",
   "version": "3.10.12"
  },
  "orig_nbformat": 4
 },
 "nbformat": 4,
 "nbformat_minor": 2
}
