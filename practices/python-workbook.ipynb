{
 "cells": [
  {
   "cell_type": "markdown",
   "metadata": {},
   "source": [
    "# Python notebook\n"
   ]
  },
  {
   "cell_type": "markdown",
   "metadata": {},
   "source": [
    "## Data types\n",
    "\n",
    "- Scalar types\n",
    "    - `int` - `32` arb precision \n",
    "    - `float` - `4.2` 64-bit floating point numbers\n",
    "    - `NoteType` - `None` the null object\n",
    "    - `bool` - `True`, `False` boolean logical values"
   ]
  },
  {
   "cell_type": "markdown",
   "metadata": {},
   "source": [
    "### Int"
   ]
  },
  {
   "cell_type": "code",
   "execution_count": null,
   "metadata": {},
   "outputs": [],
   "source": [
    "# 10\n",
    "print(10)\n",
    "\n",
    "# binary is prefixed with 0b\n",
    "print(0b10)\n",
    "\n",
    "# octal is prefixed with 0o\n",
    "print(0o10)\n",
    "\n",
    "# 0x prefix\n",
    "print(0x10)\n",
    "\n",
    "print(int(3.5))\n",
    "\n",
    "print(int(-3.5))\n",
    "\n",
    "# parse string\n",
    "print(int(\"455\"))\n",
    "\n",
    "# position 3\n",
    "print(int(\"10000\", 3))"
   ]
  },
  {
   "cell_type": "markdown",
   "metadata": {},
   "source": [
    "### Float"
   ]
  },
  {
   "cell_type": "code",
   "execution_count": null,
   "metadata": {},
   "outputs": [],
   "source": [
    "# any number with decimal point considered as float\n",
    "print(type(3.125))\n",
    "\n",
    "print(type(3e8))\n",
    "\n",
    "print(type(1.616e-35))\n",
    "\n",
    "print(float(7))\n",
    "\n",
    "# parse\n",
    "print(float(\"1.67\"))\n",
    "\n",
    "# nan value\n",
    "print(float(\"nan\"))\n",
    "\n",
    "# positive infinity\n",
    "print(float(\"inf\"))\n",
    "\n",
    "# negative infinity\n",
    "print(float(\"-inf\"))\n",
    "\n",
    "# adding float and int produces float number\n",
    "print(3.1+2)"
   ]
  },
  {
   "cell_type": "markdown",
   "metadata": {},
   "source": [
    "### None"
   ]
  },
  {
   "cell_type": "code",
   "execution_count": null,
   "metadata": {},
   "outputs": [],
   "source": [
    "a = None\n",
    "\n",
    "print(type(a))\n",
    "\n",
    "print(a is None)"
   ]
  },
  {
   "cell_type": "markdown",
   "metadata": {},
   "source": [
    "### bool"
   ]
  },
  {
   "cell_type": "code",
   "execution_count": null,
   "metadata": {},
   "outputs": [],
   "source": [
    "# for int 0 = falsy and all other values truthy\n",
    "print(bool(0))\n",
    "\n",
    "print(bool(67))\n",
    "\n",
    "print(bool(-1))\n",
    "\n",
    "# the same is true of floats\n",
    "print(bool(0.0))\n",
    "\n",
    "print(bool(0.345))\n",
    "\n",
    "# for lists empty are falsy and with values are truthy\n",
    "print(bool([]))\n",
    "\n",
    "print(bool([1,2,3,4,5]))\n",
    "\n",
    "# empty string are falsy and others are truthy\n",
    "print(bool(\"\"))\n",
    "\n",
    "print(bool(\"word\"))\n",
    "\n",
    "# note: parsing False or True string will both result in True\n",
    "print(bool(\"False\"))"
   ]
  },
  {
   "cell_type": "markdown",
   "metadata": {},
   "source": [
    "## If statements"
   ]
  },
  {
   "cell_type": "code",
   "execution_count": null,
   "metadata": {},
   "outputs": [],
   "source": [
    "h = 50\n",
    "\n",
    "if h > 50:\n",
    "    print(\"> 50\")\n",
    "elif h < 20:\n",
    "    print(\"< 20\")\n",
    "else:\n",
    "    print(\"didn't match\")"
   ]
  },
  {
   "cell_type": "code",
   "execution_count": null,
   "metadata": {},
   "outputs": [],
   "source": [
    "name = input(\"What is your name\")\n",
    "\n",
    "if name != \"David\" :\n",
    "    print(\"Hi\", name)\n",
    "elif name == \"David\" :\n",
    "    print(\"Yo David\")\n",
    "else :\n",
    "    print(f\"Hello {name}\")\n",
    "print(\"Alway runs\")  #Not indented"
   ]
  },
  {
   "cell_type": "markdown",
   "metadata": {},
   "source": [
    "## Loops"
   ]
  },
  {
   "cell_type": "markdown",
   "metadata": {},
   "source": [
    "### While Loops\n",
    "\n",
    "Python doesn't support do-while loops"
   ]
  },
  {
   "cell_type": "code",
   "execution_count": null,
   "metadata": {},
   "outputs": [],
   "source": [
    "n = 100\n",
    "while n < 110:\n",
    "    print(n)\n",
    "    n +=1 # not allowed n++"
   ]
  },
  {
   "cell_type": "code",
   "execution_count": 22,
   "metadata": {},
   "outputs": [
    {
     "name": "stdout",
     "output_type": "stream",
     "text": [
      "45\n",
      "Exit\n"
     ]
    }
   ],
   "source": [
    "# 28\n",
    "while True:\n",
    "    response = input(\"Enter number\")\n",
    "    if (int(response)) % 7 == 0:\n",
    "        print(\"Exit\")\n",
    "        break\n",
    "    print(response)"
   ]
  },
  {
   "cell_type": "markdown",
   "metadata": {},
   "source": [
    "### For Loops"
   ]
  },
  {
   "cell_type": "code",
   "execution_count": null,
   "metadata": {},
   "outputs": [],
   "source": [
    "for n in range(10):\n",
    "    print(n)\n",
    "    print(\"Next number\")\n",
    "print(\"Done\")"
   ]
  },
  {
   "cell_type": "code",
   "execution_count": null,
   "metadata": {},
   "outputs": [],
   "source": [
    "for n in range(15, 20):\n",
    "    print(n)"
   ]
  },
  {
   "cell_type": "code",
   "execution_count": null,
   "metadata": {},
   "outputs": [],
   "source": [
    "for n in range(20, 15, -2):\n",
    "    print(n)"
   ]
  },
  {
   "cell_type": "code",
   "execution_count": null,
   "metadata": {},
   "outputs": [],
   "source": [
    "for _ in range(2): # _ is used for a discard\n",
    "    print(\"Hello\")"
   ]
  },
  {
   "cell_type": "markdown",
   "metadata": {},
   "source": [
    "## Collections\n",
    "Lists, Dictionaries"
   ]
  }
 ],
 "metadata": {
  "kernelspec": {
   "display_name": ".venv",
   "language": "python",
   "name": "python3"
  },
  "language_info": {
   "codemirror_mode": {
    "name": "ipython",
    "version": 3
   },
   "file_extension": ".py",
   "mimetype": "text/x-python",
   "name": "python",
   "nbconvert_exporter": "python",
   "pygments_lexer": "ipython3",
   "version": "3.10.12"
  },
  "orig_nbformat": 4
 },
 "nbformat": 4,
 "nbformat_minor": 2
}
