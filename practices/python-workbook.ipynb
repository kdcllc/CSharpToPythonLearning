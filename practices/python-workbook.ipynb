{
 "cells": [
  {
   "cell_type": "markdown",
   "metadata": {},
   "source": [
    "# Python notebook\n"
   ]
  },
  {
   "cell_type": "markdown",
   "metadata": {},
   "source": [
    "## Data types\n",
    "\n",
    "- Scalar types\n",
    "    - `int` - `32` arb precision \n",
    "    - `float` - `4.2` 64-bit floating point numbers\n",
    "    - `NoteType` - `None` the null object\n",
    "    - `bool` - `True`, `False` boolean logical values"
   ]
  },
  {
   "cell_type": "markdown",
   "metadata": {},
   "source": [
    "### Int"
   ]
  },
  {
   "cell_type": "code",
   "execution_count": null,
   "metadata": {},
   "outputs": [],
   "source": [
    "# 10\n",
    "print(10)\n",
    "\n",
    "# binary is prefixed with 0b\n",
    "print(0b10)\n",
    "\n",
    "# octal is prefixed with 0o\n",
    "print(0o10)\n",
    "\n",
    "# 0x prefix\n",
    "print(0x10)\n",
    "\n",
    "print(int(3.5))\n",
    "\n",
    "print(int(-3.5))\n",
    "\n",
    "# parse string\n",
    "print(int(\"455\"))\n",
    "\n",
    "# position 3\n",
    "print(int(\"10000\", 3))"
   ]
  },
  {
   "cell_type": "markdown",
   "metadata": {},
   "source": [
    "### Float"
   ]
  },
  {
   "cell_type": "code",
   "execution_count": null,
   "metadata": {},
   "outputs": [],
   "source": [
    "# any number with decimal point considered as float\n",
    "print(type(3.125))\n",
    "\n",
    "print(type(3e8))\n",
    "\n",
    "print(type(1.616e-35))\n",
    "\n",
    "print(float(7))\n",
    "\n",
    "# parse\n",
    "print(float(\"1.67\"))\n",
    "\n",
    "# nan value\n",
    "print(float(\"nan\"))\n",
    "\n",
    "# positive infinity\n",
    "print(float(\"inf\"))\n",
    "\n",
    "# negative infinity\n",
    "print(float(\"-inf\"))\n",
    "\n",
    "# adding float and int produces float number\n",
    "print(3.1+2)"
   ]
  },
  {
   "cell_type": "markdown",
   "metadata": {},
   "source": [
    "### None"
   ]
  },
  {
   "cell_type": "code",
   "execution_count": null,
   "metadata": {},
   "outputs": [],
   "source": [
    "a = None\n",
    "\n",
    "print(type(a))\n",
    "\n",
    "print(a is None)"
   ]
  },
  {
   "cell_type": "markdown",
   "metadata": {},
   "source": [
    "### bool"
   ]
  },
  {
   "cell_type": "code",
   "execution_count": null,
   "metadata": {},
   "outputs": [],
   "source": [
    "# for int 0 = falsy and all other values truthy\n",
    "print(bool(0))\n",
    "\n",
    "print(bool(67))\n",
    "\n",
    "print(bool(-1))\n",
    "\n",
    "# the same is true of floats\n",
    "print(bool(0.0))\n",
    "\n",
    "print(bool(0.345))\n",
    "\n",
    "# for lists empty are falsy and with values are truthy\n",
    "print(bool([]))\n",
    "\n",
    "print(bool([1,2,3,4,5]))\n",
    "\n",
    "# empty string are falsy and others are truthy\n",
    "print(bool(\"\"))\n",
    "\n",
    "print(bool(\"word\"))\n",
    "\n",
    "# note: parsing False or True string will both result in True\n",
    "print(bool(\"False\"))"
   ]
  },
  {
   "cell_type": "markdown",
   "metadata": {},
   "source": [
    "## Collections\n",
    "- `str`\n",
    "- `bytes`\n",
    "- `list`\n",
    "- `dict`"
   ]
  },
  {
   "cell_type": "markdown",
   "metadata": {},
   "source": [
    "### string `str`\n",
    "\n",
    "- Strings are immutable.\n",
    "- Single or double quote can be used.\n",
    "- UTF8 - unicode\n",
    "\n",
    "https://docs.python.org/3/reference/lexical_analysis.html#literals"
   ]
  },
  {
   "cell_type": "code",
   "execution_count": null,
   "metadata": {},
   "outputs": [],
   "source": [
    "# double \n",
    "a = \"\"\"\n",
    "    This is \n",
    "    a multiline\n",
    "    string\n",
    "    double quotes\n",
    "\"\"\"\n",
    "\n",
    "print(a)\n",
    "\n",
    "# single\n",
    "\n",
    "b = '''\n",
    "    This is\n",
    "    a multiple\n",
    "    sting\n",
    "    single quotes\n",
    "'''\n",
    "\n",
    "print(b)\n",
    "\n",
    "# \\n universal for all OSs\n",
    "c = 'This string\\nspans multiple\\nlines'\n",
    "\n",
    "print(c)"
   ]
  },
  {
   "cell_type": "code",
   "execution_count": null,
   "metadata": {},
   "outputs": [],
   "source": [
    "path = r'C:\\Users\\Path'\n",
    "print(path)"
   ]
  },
  {
   "cell_type": "code",
   "execution_count": null,
   "metadata": {},
   "outputs": [],
   "source": [
    "# index is 0 based\n",
    "s = \"faith\"\n",
    "print(s[2])\n",
    "\n",
    "print(type(s[2]))"
   ]
  },
  {
   "cell_type": "code",
   "execution_count": null,
   "metadata": {},
   "outputs": [],
   "source": [
    "c = 'charlotte'\n",
    "# returns a new string\n",
    "print(c.capitalize())"
   ]
  },
  {
   "cell_type": "code",
   "execution_count": null,
   "metadata": {},
   "outputs": [],
   "source": [
    "# demos the concatenation of the strings\n",
    "\n",
    "name = input(\"What is your name\")\n",
    "\n",
    "print(\"Hello \" + name)\n",
    "print(\"Hello\", name)\n",
    "print(\"Hello %s\" % (name))\n",
    "print(f\"Hello {name}\")\n",
    "\n",
    "# original value\n",
    "print(type(name))\n",
    "name = 2\n",
    "\n",
    "# re-assigned value\n",
    "print(type(name))"
   ]
  },
  {
   "cell_type": "markdown",
   "metadata": {},
   "source": [
    "### string `bytes`\n",
    "\n",
    "- sequence of bytes\n",
    "- raw data\n",
    "- fixed width singly-byte encodings\n",
    "\n",
    "To convert between strings and bytes we need to know the  [standard encodings](https://docs.python.org/3/library/codecs.html#standard-encodings) encode/decode"
   ]
  },
  {
   "cell_type": "code",
   "execution_count": null,
   "metadata": {},
   "outputs": [],
   "source": [
    "# bytes literals\n",
    "\n",
    "x = b'some data'\n",
    "\n",
    "print(type(x))\n",
    "\n",
    "p = x[0]\n",
    "print(p)\n",
    "\n",
    "a = x.split()\n",
    "\n",
    "print(a)"
   ]
  },
  {
   "cell_type": "markdown",
   "metadata": {},
   "source": [
    "### lists\n"
   ]
  },
  {
   "cell_type": "code",
   "execution_count": null,
   "metadata": {},
   "outputs": [],
   "source": [
    "color = [\"Red\", \"Yellow\", \"Blue\"] # Python doesn't have arrays\n",
    "color.append(\"Green\")\n",
    "print(color[1])\n",
    "\n",
    "print(len(color))\n",
    "print(type(color))\n",
    "\n",
    "for col in color:\n",
    "    print(col)\n",
    "\n",
    "print(color[-1])  #last element like ^1 in c#"
   ]
  },
  {
   "cell_type": "code",
   "execution_count": null,
   "metadata": {},
   "outputs": [],
   "source": [
    "import random\n",
    "ran = random.randint(0, 10)\n",
    "\n",
    "a = [ran] * 10\n",
    "print(a)"
   ]
  },
  {
   "cell_type": "markdown",
   "metadata": {},
   "source": [
    "slices"
   ]
  },
  {
   "cell_type": "code",
   "execution_count": null,
   "metadata": {},
   "outputs": [],
   "source": [
    "letters = [\"a\", \"d\", \"c\", \"b\"]\n",
    "print(letters)"
   ]
  },
  {
   "cell_type": "code",
   "execution_count": null,
   "metadata": {},
   "outputs": [],
   "source": [
    "import string # like using in c#\n",
    "letters2 = list(string.ascii_lowercase)\n",
    "print(letters2)\n",
    "\n",
    "# help(string)"
   ]
  },
  {
   "cell_type": "code",
   "execution_count": null,
   "metadata": {},
   "outputs": [],
   "source": [
    "for le in letters2[:5]:\n",
    "    print(le)\n",
    "\n",
    "print(\"break\")\n",
    "\n",
    "for le in letters2[2:5]:\n",
    "    print(le)\n",
    "\n",
    "print(\"break\")\n",
    "\n",
    "for le in letters2[:15:2]:\n",
    "    print(le)\n",
    "\n",
    "print(\"break\")\n",
    "\n",
    "for le in letters2[::-1]:\n",
    "    print(le)\n"
   ]
  },
  {
   "cell_type": "code",
   "execution_count": null,
   "metadata": {},
   "outputs": [],
   "source": [
    "# depends on the code that assigns letters2 variabl\n",
    "\"-\".join(letters2)"
   ]
  },
  {
   "cell_type": "markdown",
   "metadata": {},
   "source": [
    "list comprehensions"
   ]
  },
  {
   "cell_type": "code",
   "execution_count": null,
   "metadata": {},
   "outputs": [],
   "source": [
    "import string # like using in c#\n",
    "letters = list(string.ascii_lowercase)"
   ]
  },
  {
   "cell_type": "code",
   "execution_count": null,
   "metadata": {},
   "outputs": [],
   "source": [
    "# linq?\n",
    "[letter for letter in letters]"
   ]
  },
  {
   "cell_type": "code",
   "execution_count": null,
   "metadata": {},
   "outputs": [],
   "source": [
    "[letter.upper() for letter in letters]"
   ]
  },
  {
   "cell_type": "code",
   "execution_count": null,
   "metadata": {},
   "outputs": [],
   "source": [
    "[letter.upper() for letter in letters if letter < 'm']"
   ]
  },
  {
   "cell_type": "code",
   "execution_count": null,
   "metadata": {},
   "outputs": [],
   "source": [
    "[letter.upper() for letter in letters[::-1] if letter < 'm']\n"
   ]
  },
  {
   "cell_type": "code",
   "execution_count": null,
   "metadata": {},
   "outputs": [],
   "source": [
    "# := is called the walrus operator\n",
    "[l for letter in letters if (l := letter.upper()) < 'M']"
   ]
  },
  {
   "cell_type": "code",
   "execution_count": null,
   "metadata": {},
   "outputs": [],
   "source": [
    "# nested\n",
    "words = [\"hello\", \"world\", \"this\", \"is\", \"a\", \"sentence\"]\n",
    "\n",
    "[letter for word in words for letter in word]"
   ]
  },
  {
   "cell_type": "markdown",
   "metadata": {},
   "source": [
    "### `dict` dictionaries\n",
    "\n",
    "Maps keys to values"
   ]
  },
  {
   "cell_type": "code",
   "execution_count": 38,
   "metadata": {},
   "outputs": [
    {
     "name": "stdout",
     "output_type": "stream",
     "text": [
      "firstName John\n",
      "lastName Smith\n",
      "firstName John\n",
      "lastName Smith\n",
      "<class 'tuple'>\n",
      "<class 'tuple'>\n",
      "Length  2\n",
      "{'firstName': 'John', 'lastName': 'Smith'}\n",
      "John\n",
      "Peter\n",
      "'firstName' is in dictionary\n",
      "age is not in dictionary\n"
     ]
    }
   ],
   "source": [
    "# create empty dict\n",
    "ed = {}\n",
    "\n",
    "a_dict= {\n",
    "        \"firstName\": \"John\", \n",
    "        \"lastName\": \"Smith\" }\n",
    "\n",
    "# name in the key\n",
    "for name in a_dict:\n",
    "    print(name, a_dict[name])\n",
    "\n",
    "\n",
    "for firstName, lastName in a_dict.items():\n",
    "    print(firstName, lastName)\n",
    "\n",
    "for nc in a_dict.items():\n",
    "    print(type(nc))\n",
    "    \n",
    "print('Length ', len(a_dict))\n",
    "\n",
    "print(a_dict)\n",
    "\n",
    "# get a value\n",
    "print(a_dict['firstName'])\n",
    "\n",
    "# set a value\n",
    "a_dict['firstName'] = 'Peter'\n",
    "print(a_dict['firstName'])\n",
    "\n",
    "# check for the values\n",
    "if \"firstName\" in a_dict:\n",
    "    print(\"'firstName' is in dictionary\")\n",
    "\n",
    "if \"age\" not in a_dict:\n",
    "    print(\"age is not in dictionary\")"
   ]
  },
  {
   "cell_type": "code",
   "execution_count": 39,
   "metadata": {},
   "outputs": [
    {
     "name": "stdout",
     "output_type": "stream",
     "text": [
      "{'a': 'A', 'b': 'B', 'c': 'C', 'd': 'D', 'e': 'E', 'f': 'F', 'g': 'G', 'h': 'H', 'i': 'I', 'j': 'J', 'k': 'K', 'l': 'L'}\n"
     ]
    }
   ],
   "source": [
    "import string # like using in c#\n",
    "list = list(string.ascii_lowercase)\n",
    "\n",
    "d = {item: item.upper() for item in list if item < 'm'}\n",
    "\n",
    "print(d)"
   ]
  },
  {
   "cell_type": "markdown",
   "metadata": {},
   "source": [
    "## If statements"
   ]
  },
  {
   "cell_type": "code",
   "execution_count": null,
   "metadata": {},
   "outputs": [],
   "source": [
    "h = 50\n",
    "\n",
    "if h > 50:\n",
    "    print(\"> 50\")\n",
    "elif h < 20:\n",
    "    print(\"< 20\")\n",
    "else:\n",
    "    print(\"didn't match\")"
   ]
  },
  {
   "cell_type": "code",
   "execution_count": null,
   "metadata": {},
   "outputs": [],
   "source": [
    "name = input(\"What is your name\")\n",
    "\n",
    "if name != \"David\" :\n",
    "    print(\"Hi\", name)\n",
    "elif name == \"David\" :\n",
    "    print(\"Yo David\")\n",
    "else :\n",
    "    print(f\"Hello {name}\")\n",
    "print(\"Alway runs\")  #Not indented"
   ]
  },
  {
   "cell_type": "markdown",
   "metadata": {},
   "source": [
    "## Loops"
   ]
  },
  {
   "cell_type": "markdown",
   "metadata": {},
   "source": [
    "### While Loops\n",
    "\n",
    "Python doesn't support do-while loops"
   ]
  },
  {
   "cell_type": "code",
   "execution_count": null,
   "metadata": {},
   "outputs": [],
   "source": [
    "n = 100\n",
    "while n < 110:\n",
    "    print(n)\n",
    "    n +=1 # not allowed n++"
   ]
  },
  {
   "cell_type": "code",
   "execution_count": null,
   "metadata": {},
   "outputs": [],
   "source": [
    "# 28\n",
    "while True:\n",
    "    response = input(\"Enter number\")\n",
    "    if (int(response)) % 7 == 0:\n",
    "        print(\"Exit\")\n",
    "        break\n",
    "    print(response)"
   ]
  },
  {
   "cell_type": "markdown",
   "metadata": {},
   "source": [
    "### For Loops\n",
    "\n",
    "```\n",
    "for item in iterable:\n",
    "    ... body ...\n",
    "```\n"
   ]
  },
  {
   "cell_type": "code",
   "execution_count": null,
   "metadata": {},
   "outputs": [],
   "source": [
    "for n in range(10):\n",
    "    print(n)\n",
    "    print(\"Next number\")\n",
    "print(\"Done\")"
   ]
  },
  {
   "cell_type": "code",
   "execution_count": null,
   "metadata": {},
   "outputs": [],
   "source": [
    "for n in range(15, 20):\n",
    "    print(n)"
   ]
  },
  {
   "cell_type": "code",
   "execution_count": null,
   "metadata": {},
   "outputs": [],
   "source": [
    "for n in range(20, 15, -2):\n",
    "    print(n)"
   ]
  },
  {
   "cell_type": "code",
   "execution_count": null,
   "metadata": {},
   "outputs": [],
   "source": [
    "for _ in range(2): # _ is used for a discard\n",
    "    print(\"Hello\")"
   ]
  },
  {
   "cell_type": "code",
   "execution_count": null,
   "metadata": {},
   "outputs": [],
   "source": [
    "from urllib.request import urlopen\n",
    "\n",
    "story = urlopen('http://sixty-north.com/c/t.txt')\n",
    "\n",
    "story_words = []\n",
    "\n",
    "for line in story:\n",
    "    # returns string bytes\n",
    "    # line_words = line.split()\n",
    "    line_words = line.decode('utf8').split()\n",
    "    for word in line_words:\n",
    "        story_words.append(word)\n",
    "\n",
    "story.close()\n",
    "\n",
    "print(story_words)"
   ]
  },
  {
   "cell_type": "markdown",
   "metadata": {},
   "source": [
    "## Functions\n",
    "\n",
    "`__feature__` - naming special functions"
   ]
  },
  {
   "cell_type": "markdown",
   "metadata": {},
   "source": [
    "`__name__` detects whether a module is run as a script or imported into another module"
   ]
  },
  {
   "cell_type": "markdown",
   "metadata": {},
   "source": [
    "- Python module - import with API\n",
    "- Python script - execution from the command line\n",
    "- Python program - composed of many modules"
   ]
  },
  {
   "cell_type": "code",
   "execution_count": null,
   "metadata": {},
   "outputs": [],
   "source": [
    "def nth_root(radicand, n) :\n",
    "    return radicand ** (1/n)\n",
    "\n",
    "result = nth_root(16,2)\n",
    "\n",
    "print(result)"
   ]
  },
  {
   "cell_type": "code",
   "execution_count": null,
   "metadata": {},
   "outputs": [],
   "source": [
    "#! /usr/bin/env python3\n",
    "\n",
    "# shebang will allow to execute without specifying python interpreter\n",
    "# mark the script with `chmod +x script.py`\n",
    "# ./script.py\n",
    "\n",
    "from urllib.request import urlopen\n",
    "\n",
    "def fetch_words():\n",
    "    \"\"\"Fetch a list of words from a URL\n",
    "        Returns:\n",
    "            A list of strings containing the words from the document.\n",
    "    \"\"\"\n",
    "    story = urlopen('http://sixty-north.com/c/t.txt')\n",
    "\n",
    "    story_words = []\n",
    "\n",
    "    for line in story:\n",
    "\n",
    "        line_words = line.decode('utf8').split()\n",
    "        for word in line_words:\n",
    "            story_words.append(word)\n",
    "\n",
    "    story.close()\n",
    "\n",
    "    return story_words\n",
    "\n",
    "def print_items(items):\n",
    "    for item in items:\n",
    "        print(item)\n",
    "\n",
    "def main():\n",
    "    words = fetch_words()\n",
    "    print_items(words)\n",
    "\n",
    "# allows for execution and not import\n",
    "if __name__ == '__name__':\n",
    "    main()"
   ]
  }
 ],
 "metadata": {
  "kernelspec": {
   "display_name": ".venv",
   "language": "python",
   "name": "python3"
  },
  "language_info": {
   "codemirror_mode": {
    "name": "ipython",
    "version": 3
   },
   "file_extension": ".py",
   "mimetype": "text/x-python",
   "name": "python",
   "nbconvert_exporter": "python",
   "pygments_lexer": "ipython3",
   "version": "3.10.12"
  },
  "orig_nbformat": 4
 },
 "nbformat": 4,
 "nbformat_minor": 2
}
